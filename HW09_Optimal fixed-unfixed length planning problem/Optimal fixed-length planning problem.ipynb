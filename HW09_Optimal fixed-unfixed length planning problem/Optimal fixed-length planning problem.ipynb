{
 "cells": [
  {
   "attachments": {},
   "cell_type": "markdown",
   "metadata": {},
   "source": [
    "# 기본 세팅"
   ]
  },
  {
   "cell_type": "code",
   "execution_count": 149,
   "metadata": {},
   "outputs": [],
   "source": [
    "import numpy as np"
   ]
  },
  {
   "cell_type": "code",
   "execution_count": 150,
   "metadata": {},
   "outputs": [],
   "source": [
    "N = 5\n",
    "d = (lambda x: ord(x) - ord('A'))('D')"
   ]
  },
  {
   "cell_type": "code",
   "execution_count": 151,
   "metadata": {},
   "outputs": [],
   "source": [
    "num2alpha = lambda x: chr(x+65)"
   ]
  },
  {
   "cell_type": "code",
   "execution_count": 152,
   "metadata": {},
   "outputs": [],
   "source": [
    "def printGU(G, U):\n",
    "    print('-'*20 + ' G ' + '-'*20)\n",
    "    for i in range(N):\n",
    "        print(num2alpha(i), end='\\t')\n",
    "    print()\n",
    "    for i in range(N):\n",
    "        print(*G[i], sep='\\t')\n",
    "    print()\n",
    "    \n",
    "    print('-'*20 + ' U ' + '-'*20)\n",
    "    for i in range(N):\n",
    "        print(num2alpha(i), end='\\t')\n",
    "    print()\n",
    "    for i in range(N):\n",
    "        print(*U[i], sep='\\t')\n",
    "    print()"
   ]
  },
  {
   "cell_type": "code",
   "execution_count": 153,
   "metadata": {},
   "outputs": [
    {
     "data": {
      "text/plain": [
       "array([[ 2.,  2., inf, inf, inf],\n",
       "       [inf, inf,  1.,  4., inf],\n",
       "       [ 1., inf, inf,  1., inf],\n",
       "       [inf, inf,  1., inf,  1.],\n",
       "       [inf, inf, inf, inf, inf]])"
      ]
     },
     "execution_count": 153,
     "metadata": {},
     "output_type": "execute_result"
    }
   ],
   "source": [
    "adj_mat = [[2, 2, 0, 0, 0],\n",
    "           [0, 0, 1, 4, 0],\n",
    "           [1, 0, 0, 1, 0],\n",
    "           [0, 0, 1, 0, 1],\n",
    "           [0, 0, 0, 0, 0]]\n",
    "for i in range(N):\n",
    "    for j in range(N):\n",
    "        if adj_mat[i][j] == 0:\n",
    "            adj_mat[i][j] = np.inf\n",
    "\n",
    "adj_mat = np.array(adj_mat)\n",
    "adj_mat"
   ]
  },
  {
   "attachments": {},
   "cell_type": "markdown",
   "metadata": {},
   "source": [
    "# Optimal Fixed-Length Planning Problem"
   ]
  },
  {
   "attachments": {},
   "cell_type": "markdown",
   "metadata": {},
   "source": [
    "## a) Cost-to-go G*"
   ]
  },
  {
   "cell_type": "code",
   "execution_count": 154,
   "metadata": {},
   "outputs": [
    {
     "name": "stdout",
     "output_type": "stream",
     "text": [
      "-------------------- G --------------------\n",
      "A\tB\tC\tD\tE\t\n",
      "inf\tinf\tinf\t0.0\tinf\n",
      "inf\t4.0\t1.0\tinf\tinf\n",
      "6.0\t2.0\tinf\t2.0\tinf\n",
      "4.0\t6.0\t3.0\tinf\tinf\n",
      "6.0\t4.0\t5.0\t4.0\tinf\n",
      "\n",
      "-------------------- U --------------------\n",
      "A\tB\tC\tD\tE\t\n",
      "-\t-\t-\tu_F\t-\n",
      "-\tB->D\tC->D\t-\t-\n",
      "A->B\tB->C\t-\tD->C\t-\n",
      "A->B\tB->D\tC->D\t-\t-\n",
      "A->A\tB->C\tC->A\tD->C\t-\n",
      "\n"
     ]
    }
   ],
   "source": [
    "G = np.array([[np.inf] * N for _ in range(N)])\n",
    "G[0][d] = 0\n",
    "U = [['-'] * N for _ in range(N)]\n",
    "U[0][d] = 'u_F'\n",
    "\n",
    "for i in range(N-1):\n",
    "    for state in range(N):\n",
    "        for next_state in range(N):\n",
    "            if adj_mat[state][next_state] != np.inf:\n",
    "                if G[i+1][state] > adj_mat[state][next_state] + G[i][next_state]:\n",
    "                    G[i+1][state] = adj_mat[state][next_state] + G[i][next_state]\n",
    "                    U[i+1][state] = f\"{num2alpha(state)}->{num2alpha(next_state)}\"\n",
    "printGU(G, U)"
   ]
  },
  {
   "attachments": {},
   "cell_type": "markdown",
   "metadata": {},
   "source": [
    "## b) Cost-to-come C*"
   ]
  },
  {
   "cell_type": "code",
   "execution_count": 155,
   "metadata": {},
   "outputs": [
    {
     "name": "stdout",
     "output_type": "stream",
     "text": [
      "-------------------- G --------------------\n",
      "A\tB\tC\tD\tE\t\n",
      "inf\tinf\tinf\t0.0\tinf\n",
      "inf\tinf\t1.0\tinf\t1.0\n",
      "2.0\tinf\tinf\t2.0\tinf\n",
      "4.0\t4.0\t3.0\tinf\t3.0\n",
      "4.0\t6.0\t5.0\t4.0\tinf\n",
      "\n",
      "-------------------- U --------------------\n",
      "A\tB\tC\tD\tE\t\n",
      "-\t-\t-\tu_1\t-\n",
      "-\t-\tD->C\t-\tD->E\n",
      "C->A\t-\t-\tC->D\t-\n",
      "A->A\tA->B\tD->C\t-\tD->E\n",
      "C->A\tA->B\tB->C\tC->D\t-\n",
      "\n"
     ]
    }
   ],
   "source": [
    "C = np.array([[np.inf] * N for _ in range(N)])\n",
    "C[0][d] = 0\n",
    "U = [['-'] * N for _ in range(N)]\n",
    "U[0][d] = 'u_1'\n",
    "\n",
    "for i in range(N-1):\n",
    "    for next_state in range(N):\n",
    "        for state in range(N):\n",
    "            if adj_mat[state][next_state] != np.inf:\n",
    "                if C[i+1][next_state] > adj_mat[state][next_state] + C[i][state]:\n",
    "                    C[i+1][next_state] = adj_mat[state][next_state] + C[i][state]\n",
    "                    U[i+1][next_state] = f\"{num2alpha(state)}->{num2alpha(next_state)}\"\n",
    "printGU(C, U)"
   ]
  },
  {
   "attachments": {},
   "cell_type": "markdown",
   "metadata": {},
   "source": [
    "# Optimal Unfixed-Length Planning Problem"
   ]
  },
  {
   "attachments": {},
   "cell_type": "markdown",
   "metadata": {},
   "source": [
    "## a) Cost-to-go G*"
   ]
  },
  {
   "cell_type": "code",
   "execution_count": 156,
   "metadata": {},
   "outputs": [
    {
     "name": "stdout",
     "output_type": "stream",
     "text": [
      "A\tB\tC\tD\tE\n",
      "4.0\t2.0\t1.0\t0.0\tinf\n"
     ]
    }
   ],
   "source": [
    "G = np.array([np.inf] * N)\n",
    "G[d] = 0\n",
    "for i in range(N):\n",
    "    for state in range(N):\n",
    "        for next_state in range(N):\n",
    "            if adj_mat[state][next_state] != np.inf:\n",
    "                G[state] = min(G[state], adj_mat[state][next_state] + G[next_state])\n",
    "print(*[num2alpha(i) for i in range(N)], sep='\\t')\n",
    "print(*G, sep='\\t')"
   ]
  },
  {
   "attachments": {},
   "cell_type": "markdown",
   "metadata": {},
   "source": [
    "## b) Cost-to-come C*"
   ]
  },
  {
   "cell_type": "code",
   "execution_count": 157,
   "metadata": {},
   "outputs": [
    {
     "name": "stdout",
     "output_type": "stream",
     "text": [
      "A\tB\tC\tD\tE\n",
      "2.0\t4.0\t1.0\t0.0\t1.0\n"
     ]
    }
   ],
   "source": [
    "C = np.array([np.inf] * N)\n",
    "C[d] = 0\n",
    "for i in range(N):\n",
    "    for next_state in range(N):\n",
    "        for state in range(N):\n",
    "            if adj_mat[state][next_state] != np.inf:\n",
    "                C[next_state] = min(C[next_state], adj_mat[state][next_state] + C[state])\n",
    "print(*[num2alpha(i) for i in range(N)], sep='\\t')\n",
    "print(*C, sep='\\t')"
   ]
  }
 ],
 "metadata": {
  "kernelspec": {
   "display_name": "base",
   "language": "python",
   "name": "python3"
  },
  "language_info": {
   "codemirror_mode": {
    "name": "ipython",
    "version": 3
   },
   "file_extension": ".py",
   "mimetype": "text/x-python",
   "name": "python",
   "nbconvert_exporter": "python",
   "pygments_lexer": "ipython3",
   "version": "3.10.9"
  },
  "orig_nbformat": 4
 },
 "nbformat": 4,
 "nbformat_minor": 2
}

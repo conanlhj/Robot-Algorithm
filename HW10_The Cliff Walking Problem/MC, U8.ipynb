{
  "cells": [
    {
      "cell_type": "code",
      "execution_count": 1,
      "metadata": {
        "id": "phSlhDj3R8JY"
      },
      "outputs": [],
      "source": [
        "import random\n",
        "import numpy as np\n",
        "import matplotlib.pyplot as plt"
      ]
    },
    {
      "cell_type": "code",
      "execution_count": 2,
      "metadata": {},
      "outputs": [],
      "source": [
        "MAX_ROW = 3\n",
        "MAX_COL = 11\n",
        "MAX_ACTIONS = 7\n",
        "\n",
        "START = (3, 0)\n",
        "GOAL = (3, 11)"
      ]
    },
    {
      "cell_type": "code",
      "execution_count": 3,
      "metadata": {
        "id": "1805cmG5SWXl"
      },
      "outputs": [],
      "source": [
        "class GridWorld:\n",
        "    def __init__(self):\n",
        "        self.x, self.y = START\n",
        "\n",
        "    def step(self, a):\n",
        "        if a == 0:\n",
        "            self.move_right()\n",
        "        elif a == 1:\n",
        "            self.move_left()\n",
        "        elif a == 2:\n",
        "            self.move_up()\n",
        "        elif a == 3:\n",
        "            self.move_down()\n",
        "        elif a == 4:\n",
        "            self.move_upright()\n",
        "        elif a == 5:\n",
        "            self.move_downleft()\n",
        "        elif a == 6:\n",
        "            self.move_upleft()\n",
        "        elif a == 7:\n",
        "            self.move_downright()\n",
        "\n",
        "        reward = -1\n",
        "        if self.x == 3 and 0 < self.y < 11:\n",
        "            reward = -100\n",
        "            self.reset()\n",
        "        \n",
        "        done = self.is_done()\n",
        "        return (self.x, self.y), reward, done\n",
        "\n",
        "    def move_right(self):\n",
        "        self.y += 1\n",
        "        if self.y > MAX_COL:\n",
        "            self.y = MAX_COL\n",
        "\n",
        "    def move_left(self):\n",
        "        self.y -= 1\n",
        "        if self.y < 0:\n",
        "            self.y = 0\n",
        "\n",
        "    def move_up(self):\n",
        "        self.x -= 1\n",
        "        if self.x < 0:\n",
        "            self.x = 0\n",
        "\n",
        "    def move_down(self):\n",
        "        self.x += 1\n",
        "        if self.x > MAX_ROW:\n",
        "            self.x = MAX_ROW\n",
        "            \n",
        "    def move_upright(self):\n",
        "        nx = self.x - 1\n",
        "        ny = self.y + 1\n",
        "        if nx < 0 or ny > MAX_COL:\n",
        "            return\n",
        "        self.x, self.y = nx, ny\n",
        "            \n",
        "    def move_downleft(self):\n",
        "        nx = self.x + 1\n",
        "        ny = self.y - 1\n",
        "        if nx > MAX_ROW or ny < 0:\n",
        "            return\n",
        "        self.x, self.y = nx, ny\n",
        "            \n",
        "    def move_upleft(self):\n",
        "        nx = self.x - 1\n",
        "        ny = self.y - 1\n",
        "        if nx < 0 or ny < 0:\n",
        "            return\n",
        "        self.x, self.y = nx, ny\n",
        "            \n",
        "    def move_downright(self):\n",
        "        nx = self.x + 1\n",
        "        ny = self.y + 1\n",
        "        if nx > MAX_ROW or ny > MAX_COL:\n",
        "            return\n",
        "        self.x, self.y = nx, ny\n",
        "\n",
        "    def is_done(self):\n",
        "        return (self.x, self.y) == GOAL\n",
        "\n",
        "    def get_state(self):\n",
        "        return (self.x, self.y)\n",
        "\n",
        "    def reset(self):\n",
        "        self.x, self.y = START\n",
        "        return (self.x, self.y)\n"
      ]
    },
    {
      "cell_type": "code",
      "execution_count": 4,
      "metadata": {
        "id": "wJWd0XP9SWyA"
      },
      "outputs": [],
      "source": [
        "class AgentMC:\n",
        "    def __init__(self):\n",
        "        self.q_table = np.zeros((MAX_ROW+1, MAX_COL+1, MAX_ACTIONS+1))  # x size, y size, number of action\n",
        "        self.eps = 0.9\n",
        "        self.alpha = 0.01\n",
        "\n",
        "    def select_action(self, s):\n",
        "        # epsilon-soft greedy policy\n",
        "        x, y = s\n",
        "        prob = random.random()\n",
        "        if prob < self.eps:  # perform random action with epsilon probabilty\n",
        "            action = random.randint(0, MAX_ACTIONS)\n",
        "        else:  # greedy\n",
        "            action_val = self.q_table[x, y, :]\n",
        "            action = np.argmax(action_val)\n",
        "        return action\n",
        "\n",
        "    def update_table(self, history):\n",
        "        # history is all visited states during one episode\n",
        "        cum_reward = 0\n",
        "        for transition in history[::-1]:\n",
        "            s, a, r, s_next = transition\n",
        "            x, y = s\n",
        "            # Monte-Carlo Predition to estimate Q(s,a) (nothing but an alternative expression of V(s))\n",
        "            self.q_table[x, y, a] = (1 - self.alpha) * self.q_table[\n",
        "                x, y, a\n",
        "            ] + self.alpha * cum_reward  # Now, I think you are familiar with Robbins-Monro form\n",
        "            # self.q_table[x,y,a] = self.q_table[x,y,a] + self.alpha * (cum_reward - self.q_table[x,y,a])\n",
        "            cum_reward = cum_reward + r\n",
        "\n",
        "    def anneal_eps(self):\n",
        "        # annealing part: You may safely ignore this part :) (by Han)\n",
        "        self.eps -= 0.03\n",
        "        self.eps = max(self.eps, 0.1)\n",
        "\n",
        "    def show_table(self):\n",
        "        # Show me the one action of which results in the best Q(s,a) value\n",
        "        q_list = self.q_table.tolist()\n",
        "        best_qvalue = np.zeros((MAX_ROW+1, MAX_COL+1))\n",
        "        best_action = np.zeros((MAX_ROW+1, MAX_COL+1))\n",
        "        for row_idx in range(len(q_list)):\n",
        "            row = q_list[row_idx]\n",
        "            for col_idx in range(len(row)):\n",
        "                col = row[col_idx]\n",
        "                qvalue = np.max(col)\n",
        "                action = np.argmax(col)\n",
        "                best_qvalue[row_idx, col_idx] = qvalue\n",
        "                best_action[row_idx, col_idx] = action\n",
        "        return best_qvalue, best_action\n"
      ]
    },
    {
      "cell_type": "code",
      "execution_count": 5,
      "metadata": {
        "id": "iHSAokm_YIzo"
      },
      "outputs": [],
      "source": [
        "def main():\n",
        "    env = GridWorld()\n",
        "    agent = AgentMC()\n",
        "    plt.rc('font', size=5)\n",
        "\n",
        "    for n_epi in range(1000):\n",
        "        done = False\n",
        "        history = []\n",
        "\n",
        "        s = env.reset()\n",
        "        while not done:\n",
        "            a = agent.select_action(s)\n",
        "            s_next, r, done = env.step(a)\n",
        "            history.append((s, a, r, s_next))\n",
        "            s = s_next\n",
        "        agent.update_table(history)\n",
        "        agent.anneal_eps()\n",
        "\n",
        "    # Show me the result when it has done!\n",
        "    opt_q, opt_policy = agent.show_table()\n",
        "\n",
        "    # Display the opt_q\n",
        "    fig, ax = plt.subplots()\n",
        "    plt.imshow(opt_policy, cmap=\"cool\", interpolation=\"nearest\")\n",
        "    for i in range(MAX_ROW+1):\n",
        "        for j in range(MAX_COL+1):\n",
        "            tempstr = \"{:.2f}\".format(opt_q[i][j])\n",
        "            text = ax.text(j, i, tempstr, ha=\"center\", va=\"center\", color=\"k\", )\n",
        "    plt.show()\n",
        "\n",
        "    # Display the opt_policy\n",
        "    # 0:R, 1:L, 2:U, 3:D\n",
        "    # 0:→, 1:←, 2:↑, 3:↓\n",
        "    fig, ax = plt.subplots()\n",
        "    plt.imshow(opt_policy, cmap=\"cool\", interpolation=\"nearest\")\n",
        "    for i in range(MAX_ROW+1):\n",
        "        for j in range(MAX_COL+1):\n",
        "            if opt_policy[i][j] == 0:\n",
        "                tempstr = \"→\"\n",
        "            elif opt_policy[i][j] == 1:\n",
        "                tempstr = \"←\"\n",
        "            elif opt_policy[i][j] == 2:\n",
        "                tempstr = \"↑\"\n",
        "            elif opt_policy[i][j] == 3:\n",
        "                tempstr = \"↓\"\n",
        "            elif opt_policy[i][j] == 4:\n",
        "                tempstr = \"↗\"\n",
        "            elif opt_policy[i][j] == 5:\n",
        "                tempstr = \"↙\"\n",
        "            elif opt_policy[i][j] == 6:\n",
        "                tempstr = \"↖\"\n",
        "            else:\n",
        "                tempstr = \"↘\"\n",
        "            text = ax.text(j, i, tempstr, ha=\"center\", va=\"center\", color=\"k\")\n",
        "    plt.show()\n"
      ]
    },
    {
      "cell_type": "code",
      "execution_count": 6,
      "metadata": {
        "colab": {
          "base_uri": "https://localhost:8080/",
          "height": 521
        },
        "id": "-0Lxdo06Y0VL",
        "outputId": "7e966e41-6d0f-4ec6-c37c-9c68f4aae000"
      },
      "outputs": [
        {
          "data": {
            "image/png": "[encoded data removed]",
            "text/plain": [
              "<Figure size 640x480 with 1 Axes>"
            ]
          },
          "metadata": {},
          "output_type": "display_data"
        },
        {
          "data": {
            "image/png": "[encoded data removed]",
            "text/plain": [
              "<Figure size 640x480 with 1 Axes>"
            ]
          },
          "metadata": {},
          "output_type": "display_data"
        }
      ],
      "source": [
        "main()"
      ]
    }
  ],
  "metadata": {
    "colab": {
      "collapsed_sections": [],
      "name": "GridWorld_MC_control.ipynb",
      "provenance": []
    },
    "kernelspec": {
      "display_name": "Python 3",
      "name": "python3"
    },
    "language_info": {
      "codemirror_mode": {
        "name": "ipython",
        "version": 3
      },
      "file_extension": ".py",
      "mimetype": "text/x-python",
      "name": "python",
      "nbconvert_exporter": "python",
      "pygments_lexer": "ipython3",
      "version": "3.10.9"
    }
  },
  "nbformat": 4,
  "nbformat_minor": 0
}
